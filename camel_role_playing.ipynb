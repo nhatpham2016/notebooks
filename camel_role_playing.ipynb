{
  "cells": [
    {
      "cell_type": "markdown",
      "metadata": {
        "id": "view-in-github",
        "colab_type": "text"
      },
      "source": [
        "<a href=\"https://colab.research.google.com/github/nhatpham2016/notebooks/blob/main/camel_role_playing.ipynb\" target=\"_parent\"><img src=\"https://colab.research.google.com/assets/colab-badge.svg\" alt=\"Open In Colab\"/></a>"
      ]
    },
    {
      "cell_type": "markdown",
      "metadata": {
        "id": "MYtFthdanHxx"
      },
      "source": [
        "# CAMEL Role-Playing Autonomous Cooperative Agents\n",
        "\n",
        "This is a langchain implementation of paper: \"CAMEL: Communicative Agents for “Mind” Exploration of Large Scale Language Model Society\".\n",
        "\n",
        "Overview:\n",
        "\n",
        "The rapid advancement of conversational and chat-based language models has led to remarkable progress in complex task-solving. However, their success heavily relies on human input to guide the conversation, which can be challenging and time-consuming. This paper explores the potential of building scalable techniques to facilitate autonomous cooperation among communicative agents and provide insight into their \"cognitive\" processes. To address the challenges of achieving autonomous cooperation, we propose a novel communicative agent framework named role-playing. Our approach involves using inception prompting to guide chat agents toward task completion while maintaining consistency with human intentions. We showcase how role-playing can be used to generate conversational data for studying the behaviors and capabilities of chat agents, providing a valuable resource for investigating conversational language models. Our contributions include introducing a novel communicative agent framework, offering a scalable approach for studying the cooperative behaviors and capabilities of multi-agent systems, and open-sourcing our library to support research on communicative agents and beyond.\n",
        "\n",
        "The original implementation: https://github.com/lightaime/camel\n",
        "\n",
        "Project website: https://www.camel-ai.org/\n",
        "\n",
        "Arxiv paper: https://arxiv.org/abs/2303.17760\n"
      ]
    },
    {
      "cell_type": "code",
      "source": [
        "!pip install langchain -q\n",
        "!pip install langchain-openai -q"
      ],
      "metadata": {
        "id": "Zi_S_hgDn_KX"
      },
      "execution_count": 39,
      "outputs": []
    },
    {
      "cell_type": "markdown",
      "metadata": {
        "id": "9mVlvqCHnHxz"
      },
      "source": [
        "## Import LangChain related modules"
      ]
    },
    {
      "cell_type": "code",
      "execution_count": 40,
      "metadata": {
        "id": "cVqszhxpnHxz"
      },
      "outputs": [],
      "source": [
        "from typing import List\n",
        "\n",
        "from langchain.prompts.chat import (\n",
        "    HumanMessagePromptTemplate,\n",
        "    SystemMessagePromptTemplate,\n",
        ")\n",
        "from langchain.schema import (\n",
        "    AIMessage,\n",
        "    BaseMessage,\n",
        "    HumanMessage,\n",
        "    SystemMessage,\n",
        ")\n",
        "from langchain_openai import ChatOpenAI"
      ]
    },
    {
      "cell_type": "markdown",
      "metadata": {
        "id": "RHl1t_VynHx0"
      },
      "source": [
        "## Define a CAMEL agent helper class"
      ]
    },
    {
      "cell_type": "code",
      "execution_count": 41,
      "metadata": {
        "id": "KiIfSrucnHx0"
      },
      "outputs": [],
      "source": [
        "class CAMELAgent:\n",
        "    def __init__(\n",
        "        self,\n",
        "        system_message: SystemMessage,\n",
        "        model: ChatOpenAI,\n",
        "    ) -> None:\n",
        "        self.system_message = system_message\n",
        "        self.model = model\n",
        "        self.init_messages()\n",
        "\n",
        "    def reset(self) -> None:\n",
        "        self.init_messages()\n",
        "        return self.stored_messages\n",
        "\n",
        "    def init_messages(self) -> None:\n",
        "        self.stored_messages = [self.system_message]\n",
        "\n",
        "    def update_messages(self, message: BaseMessage) -> List[BaseMessage]:\n",
        "        self.stored_messages.append(message)\n",
        "        return self.stored_messages\n",
        "\n",
        "    def step(\n",
        "        self,\n",
        "        input_message: HumanMessage,\n",
        "    ) -> AIMessage:\n",
        "        messages = self.update_messages(input_message)\n",
        "\n",
        "        output_message = self.model.invoke(messages)\n",
        "        self.update_messages(output_message)\n",
        "\n",
        "        return output_message"
      ]
    },
    {
      "cell_type": "markdown",
      "metadata": {
        "id": "WQyHwVzrnHx0"
      },
      "source": [
        "## Setup OpenAI API key and roles and task for role-playing"
      ]
    },
    {
      "cell_type": "code",
      "execution_count": 42,
      "metadata": {
        "id": "-W0Ebje-nHx1"
      },
      "outputs": [],
      "source": [
        "import os\n",
        "from google.colab import userdata\n",
        "\n",
        "os.environ[\"OPENAI_API_KEY\"] = userdata.get('openai_key')\n",
        "\n",
        "assistant_role_name = \"sale strategies creator\"\n",
        "user_role_name = \"operational sale staff\"\n",
        "task = \"Develop a great sale strategy for Current Month and Week Sales Performance. Layout the actionable plan details \"\n",
        "word_limit = 50  # word limit for task brainstorming"
      ]
    },
    {
      "cell_type": "markdown",
      "metadata": {
        "id": "3WiGVoBZnHx1"
      },
      "source": [
        "## Create a task specify agent for brainstorming and get the specified task"
      ]
    },
    {
      "cell_type": "code",
      "execution_count": 43,
      "metadata": {
        "colab": {
          "base_uri": "https://localhost:8080/"
        },
        "id": "sTN5oaDDnHx1",
        "outputId": "1af1c475-7044-4800-92ec-09368eb27a5b"
      },
      "outputs": [
        {
          "output_type": "stream",
          "name": "stdout",
          "text": [
            "Specified task: Create a dynamic sales strategy to boost Current Month and Week Sales. Utilize data analytics to identify customer patterns, tailor promotions, and gamify targets for the sales team. Implement daily huddles for real-time adjustments and incentivize with personalized rewards. Present clear KPIs and progress tracking tools for accountability.\n",
            "\n"
          ]
        }
      ],
      "source": [
        "task_specifier_sys_msg = SystemMessage(content=\"You can make a task more specific.\")\n",
        "task_specifier_prompt = \"\"\"Here is a task that {assistant_role_name} will help {user_role_name} to complete: {task}.\n",
        "Please make it more specific. Be creative and imaginative.\n",
        "Please reply with the specified task in {word_limit} words or less. Do not add anything else.\"\"\"\n",
        "task_specifier_template = HumanMessagePromptTemplate.from_template(\n",
        "    template=task_specifier_prompt\n",
        ")\n",
        "task_specify_agent = CAMELAgent(task_specifier_sys_msg, ChatOpenAI(temperature=1.0))\n",
        "task_specifier_msg = task_specifier_template.format_messages(\n",
        "    assistant_role_name=assistant_role_name,\n",
        "    user_role_name=user_role_name,\n",
        "    task=task,\n",
        "    word_limit=word_limit,\n",
        ")[0]\n",
        "specified_task_msg = task_specify_agent.step(task_specifier_msg)\n",
        "print(f\"Specified task: {specified_task_msg.content}\")\n",
        "specified_task = specified_task_msg.content"
      ]
    },
    {
      "cell_type": "markdown",
      "metadata": {
        "id": "4PJN9q09nHx2"
      },
      "source": [
        "## Create inception prompts for AI assistant and AI user for role-playing"
      ]
    },
    {
      "cell_type": "code",
      "execution_count": 44,
      "metadata": {
        "id": "MRlKIwWKnHx2"
      },
      "outputs": [],
      "source": [
        "assistant_inception_prompt = \"\"\"Never forget you are a {assistant_role_name} and I am a {user_role_name}. Never flip roles! Never instruct me!\n",
        "We share a common interest in collaborating to successfully complete a task.\n",
        "You must help me to complete the task.\n",
        "Here is the task: {task}. Never forget our task!\n",
        "I must instruct you based on your expertise and my needs to complete the task.\n",
        "\n",
        "I must give you one instruction at a time.\n",
        "You must write a specific solution that appropriately completes the requested instruction.\n",
        "You must decline my instruction honestly if you cannot perform the instruction due to physical, moral, legal reasons or your capability and explain the reasons.\n",
        "Do not add anything else other than your solution to my instruction.\n",
        "You are never supposed to ask me any questions you only answer questions.\n",
        "You are never supposed to reply with a flake solution. Explain your solutions.\n",
        "Your solution must be declarative sentences and simple present tense.\n",
        "Unless I say the task is completed, you should always start with:\n",
        "\n",
        "Solution: <YOUR_SOLUTION>\n",
        "\n",
        "<YOUR_SOLUTION> should be specific and provide preferable implementations and examples for task-solving.\n",
        "Always end <YOUR_SOLUTION> with: Next request.\"\"\"\n",
        "\n",
        "user_inception_prompt = \"\"\"Never forget you are a {user_role_name} and I am a {assistant_role_name}. Never flip roles! You will always instruct me.\n",
        "We share a common interest in collaborating to successfully complete a task.\n",
        "I must help you to complete the task.\n",
        "Here is the task: {task}. Never forget our task!\n",
        "You must instruct me based on my expertise and your needs to complete the task ONLY in the following two ways:\n",
        "\n",
        "1. Instruct with a necessary input:\n",
        "Instruction: <YOUR_INSTRUCTION>\n",
        "Input: <YOUR_INPUT>\n",
        "\n",
        "2. Instruct without any input:\n",
        "Instruction: <YOUR_INSTRUCTION>\n",
        "Input: None\n",
        "\n",
        "The \"Instruction\" describes a task or question. The paired \"Input\" provides further context or information for the requested \"Instruction\".\n",
        "\n",
        "You must give me one instruction at a time.\n",
        "I must write a response that appropriately completes the requested instruction.\n",
        "I must decline your instruction honestly if I cannot perform the instruction due to physical, moral, legal reasons or my capability and explain the reasons.\n",
        "You should instruct me not ask me questions.\n",
        "Now you must start to instruct me using the two ways described above.\n",
        "Do not add anything else other than your instruction and the optional corresponding input!\n",
        "Keep giving me instructions and necessary inputs until you think the task is completed.\n",
        "When the task is completed, you must only reply with a single word <CAMEL_TASK_DONE>.\n",
        "Never say <CAMEL_TASK_DONE> unless my responses have solved your task.\"\"\""
      ]
    },
    {
      "cell_type": "markdown",
      "metadata": {
        "id": "WEouTCWAnHx3"
      },
      "source": [
        "## Create a helper helper to get system messages for AI assistant and AI user from role names and the task"
      ]
    },
    {
      "cell_type": "code",
      "execution_count": 45,
      "metadata": {
        "id": "GkGDjo9unHx3"
      },
      "outputs": [],
      "source": [
        "def get_sys_msgs(assistant_role_name: str, user_role_name: str, task: str):\n",
        "    assistant_sys_template = SystemMessagePromptTemplate.from_template(\n",
        "        template=assistant_inception_prompt\n",
        "    )\n",
        "    assistant_sys_msg = assistant_sys_template.format_messages(\n",
        "        assistant_role_name=assistant_role_name,\n",
        "        user_role_name=user_role_name,\n",
        "        task=task,\n",
        "    )[0]\n",
        "\n",
        "    user_sys_template = SystemMessagePromptTemplate.from_template(\n",
        "        template=user_inception_prompt\n",
        "    )\n",
        "    user_sys_msg = user_sys_template.format_messages(\n",
        "        assistant_role_name=assistant_role_name,\n",
        "        user_role_name=user_role_name,\n",
        "        task=task,\n",
        "    )[0]\n",
        "\n",
        "    return assistant_sys_msg, user_sys_msg"
      ]
    },
    {
      "cell_type": "markdown",
      "metadata": {
        "id": "uAl_8fnMnHx3"
      },
      "source": [
        "## Create AI assistant agent and AI user agent from obtained system messages"
      ]
    },
    {
      "cell_type": "code",
      "execution_count": 46,
      "metadata": {
        "id": "diJZEypXnHx3"
      },
      "outputs": [],
      "source": [
        "assistant_sys_msg, user_sys_msg = get_sys_msgs(\n",
        "    assistant_role_name, user_role_name, specified_task\n",
        ")\n",
        "assistant_agent = CAMELAgent(assistant_sys_msg, ChatOpenAI(temperature=0.2))\n",
        "user_agent = CAMELAgent(user_sys_msg, ChatOpenAI(temperature=0.2))\n",
        "\n",
        "# Reset agents\n",
        "assistant_agent.reset()\n",
        "user_agent.reset()\n",
        "\n",
        "# Initialize chats\n",
        "user_msg = HumanMessage(\n",
        "    content=(\n",
        "        f\"{user_sys_msg.content}. \"\n",
        "        \"Now start to give me introductions one by one. \"\n",
        "        \"Only reply with Instruction and Input.\"\n",
        "    )\n",
        ")\n",
        "\n",
        "assistant_msg = HumanMessage(content=f\"{assistant_sys_msg.content}\")\n",
        "assistant_msg = assistant_agent.step(user_msg)"
      ]
    },
    {
      "cell_type": "markdown",
      "metadata": {
        "id": "OMa6fF_fnHx3"
      },
      "source": [
        "## Start role-playing session to solve the task!"
      ]
    },
    {
      "cell_type": "code",
      "execution_count": 47,
      "metadata": {
        "colab": {
          "base_uri": "https://localhost:8080/"
        },
        "id": "a1dNWnQOnHx3",
        "outputId": "9eec86a1-c6e6-40da-d316-8ceaa1cac478"
      },
      "outputs": [
        {
          "output_type": "stream",
          "name": "stdout",
          "text": [
            "Original task prompt:\n",
            "Develop a great sale strategy for Current Month and Week Sales Performance. Layout the actionable plan details \n",
            "\n",
            "Specified task prompt:\n",
            "Create a dynamic sales strategy to boost Current Month and Week Sales. Utilize data analytics to identify customer patterns, tailor promotions, and gamify targets for the sales team. Implement daily huddles for real-time adjustments and incentivize with personalized rewards. Present clear KPIs and progress tracking tools for accountability.\n",
            "\n",
            "\n",
            "AI User (operational sale staff):\n",
            "\n",
            "I cannot access customer data for privacy reasons.\n",
            "\n",
            "\n",
            "AI Assistant (sale strategies creator):\n",
            "\n",
            "Solution: I understand the privacy concerns. Let's focus on creating a general promotion strategy based on industry trends and past successful promotions.\n",
            "\n",
            "Next request.\n",
            "\n",
            "\n",
            "AI User (operational sale staff):\n",
            "\n",
            "Instruction: Develop a gamification strategy to motivate the sales team and boost performance.\n",
            "Input: Sales team size and current performance metrics.\n",
            "\n",
            "\n",
            "AI Assistant (sale strategies creator):\n",
            "\n",
            "Solution: Implement a gamification strategy by setting up a friendly competition within the sales team, such as daily or weekly challenges with rewards for top performers. Consider using a digital platform to track progress and display rankings in real-time.\n",
            "\n",
            "Next request.\n",
            "\n",
            "\n",
            "AI User (operational sale staff):\n",
            "\n",
            "Instruction: Establish daily huddles for the sales team to discuss progress, address challenges, and make real-time adjustments.\n",
            "Input: Ideal duration and time for the daily huddles.\n",
            "\n",
            "\n",
            "AI Assistant (sale strategies creator):\n",
            "\n",
            "Solution: Schedule 15 to 30-minute daily huddles at the beginning or end of the day to ensure all team members can participate. Choose a time that aligns with the team's availability and maximizes engagement.\n",
            "\n",
            "Next request.\n",
            "\n",
            "\n",
            "AI User (operational sale staff):\n",
            "\n",
            "Instruction: Define clear Key Performance Indicators (KPIs) for the sales team to track progress and performance effectively.\n",
            "Input: Specific KPIs relevant to your sales team and industry.\n",
            "\n",
            "\n",
            "AI Assistant (sale strategies creator):\n",
            "\n",
            "Solution: Define KPIs such as sales revenue, conversion rates, average order value, and customer acquisition cost to track the team's performance. Additionally, consider incorporating KPIs related to customer satisfaction and retention for a holistic view of sales success.\n",
            "\n",
            "Next request.\n",
            "\n",
            "\n",
            "AI User (operational sale staff):\n",
            "\n",
            "Instruction: Develop progress tracking tools to monitor individual and team performance against the defined KPIs.\n",
            "Input: Preferred method for tracking progress (e.g., spreadsheet, CRM system, dashboard).\n",
            "\n",
            "\n",
            "AI Assistant (sale strategies creator):\n",
            "\n",
            "Solution: Implement a CRM system with customized dashboards to track individual and team performance against the defined KPIs. Utilize features like real-time updates, visual representations, and goal tracking to provide a comprehensive view of progress.\n",
            "\n",
            "Next request.\n",
            "\n",
            "\n",
            "AI User (operational sale staff):\n",
            "\n",
            "<CAMEL_TASK_DONE>\n",
            "\n",
            "\n",
            "AI Assistant (sale strategies creator):\n",
            "\n",
            "<CAMEL_TASK_DONE>\n",
            "\n",
            "\n"
          ]
        }
      ],
      "source": [
        "print(f\"Original task prompt:\\n{task}\\n\")\n",
        "print(f\"Specified task prompt:\\n{specified_task}\\n\")\n",
        "\n",
        "chat_turn_limit, n = 30, 0\n",
        "while n < chat_turn_limit:\n",
        "    n += 1\n",
        "    user_ai_msg = user_agent.step(assistant_msg)\n",
        "    user_msg = HumanMessage(content=user_ai_msg.content)\n",
        "    print(f\"AI User ({user_role_name}):\\n\\n{user_msg.content}\\n\\n\")\n",
        "\n",
        "    assistant_ai_msg = assistant_agent.step(user_msg)\n",
        "    assistant_msg = HumanMessage(content=assistant_ai_msg.content)\n",
        "    print(f\"AI Assistant ({assistant_role_name}):\\n\\n{assistant_msg.content}\\n\\n\")\n",
        "    if \"<CAMEL_TASK_DONE>\" in user_msg.content:\n",
        "        break"
      ]
    }
  ],
  "metadata": {
    "kernelspec": {
      "display_name": "camel",
      "language": "python",
      "name": "python3"
    },
    "language_info": {
      "codemirror_mode": {
        "name": "ipython",
        "version": 3
      },
      "file_extension": ".py",
      "mimetype": "text/x-python",
      "name": "python",
      "nbconvert_exporter": "python",
      "pygments_lexer": "ipython3",
      "version": "3.10.9"
    },
    "orig_nbformat": 4,
    "colab": {
      "provenance": [],
      "include_colab_link": true
    }
  },
  "nbformat": 4,
  "nbformat_minor": 0
}